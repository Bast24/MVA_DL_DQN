{
 "cells": [
  {
   "cell_type": "markdown",
   "metadata": {
    "colab_type": "text",
    "id": "q4W106A6WCHK"
   },
   "source": [
    "**You may need to install [OpenCV](https://pypi.python.org/pypi/opencv-python) and [scikit-video](http://www.scikit-video.org/stable/).**"
   ]
  },
  {
   "cell_type": "code",
   "execution_count": 0,
   "metadata": {
    "colab": {
     "base_uri": "https://localhost:8080/",
     "height": 85
    },
    "colab_type": "code",
    "id": "4CXURQc0WCHR",
    "outputId": "53de3544-3d3b-4821-92d2-0ac61e9cb21f"
   },
   "outputs": [
    {
     "name": "stdout",
     "output_type": "stream",
     "text": [
      "Requirement already satisfied: scikit-video in /usr/local/lib/python3.6/dist-packages (1.1.11)\n",
      "Requirement already satisfied: scipy in /usr/local/lib/python3.6/dist-packages (from scikit-video) (1.4.1)\n",
      "Requirement already satisfied: pillow in /usr/local/lib/python3.6/dist-packages (from scikit-video) (6.2.2)\n",
      "Requirement already satisfied: numpy in /usr/local/lib/python3.6/dist-packages (from scikit-video) (1.17.5)\n"
     ]
    }
   ],
   "source": [
    "!pip install scikit-video\n",
    "\n",
    "import keras\n",
    "import numpy as np\n",
    "import io\n",
    "import base64\n",
    "from IPython.display import HTML\n",
    "import skvideo.io\n",
    "import cv2\n",
    "from random import sample\n",
    "import json\n",
    "\n",
    "from keras.models import Sequential, model_from_json\n",
    "from keras.layers.core import Dense, Flatten, Dropout\n",
    "from keras.optimizers import sgd, adam\n",
    "from keras.layers import (\n",
    "    Conv2D,\n",
    "    MaxPooling2D,\n",
    "    Activation,\n",
    "    AveragePooling2D,\n",
    "    Reshape,\n",
    "    BatchNormalization,\n",
    ")"
   ]
  },
  {
   "cell_type": "markdown",
   "metadata": {
    "colab_type": "text",
    "id": "55LKLcsjWCHU"
   },
   "source": [
    "# MiniProject on Deep Reinforcement Learning"
   ]
  },
  {
   "cell_type": "markdown",
   "metadata": {
    "colab_type": "text",
    "id": "sDBaqhDqWCHV"
   },
   "source": [
    "__Notations__: $E_p$ is the expectation under probability $p$. Please justify each of your answer and widely comment your code."
   ]
  },
  {
   "cell_type": "markdown",
   "metadata": {
    "colab_type": "text",
    "id": "BDNYQ12XWCHW"
   },
   "source": [
    "# Context"
   ]
  },
  {
   "cell_type": "markdown",
   "metadata": {
    "colab_type": "text",
    "id": "tFTAQm0qWCHX"
   },
   "source": [
    "In a reinforcement learning algorithm, we modelize each step $t$ as an action $a_t$ obtained from a state $s_t$, i.e. $\\{(a_{t},s_{t})_{t\\leq T}\\}$ having the Markov property. We consider a discount factor $\\gamma \\in [0,1]$ that ensures convergence. The goal is to find among all the policies $\\pi$, one that maximizes the expected reward:\n",
    "\n",
    "\\begin{equation*}\n",
    "R(\\pi)=\\sum_{t\\leq T}E_{p^{\\pi}}[\\gamma^t r(s_{t},a_{t})] \\> ,\n",
    "\\end{equation*}\n",
    "\n",
    "where: \n",
    "\\begin{equation*}p^{\\pi}(a_{0},a_{1},s_{1},...,a_{T},s_{T})=p(a_{0})\\prod_{t=1}^{T}\\pi(a_{t}|s_{t})p(s_{t+1}|s_{t},a_{t}) \\> .\n",
    "\\end{equation*}\n",
    "\n",
    "We note the $Q$-function:\n",
    "\n",
    "\\begin{equation*}Q^\\pi(s,a)=E_{p^{\\pi}}[\\sum_{t\\leq T}\\gamma^{t}r(s_{t},a_{t})|s_{0}=s,a_{0}=a] \\> .\n",
    "\\end{equation*}\n",
    "\n",
    "Thus, the optimal Q function is:\n",
    "\\begin{equation*}\n",
    "Q^*(s,a)=\\max_{\\pi}Q^\\pi(s,a) \\> .\n",
    "\\end{equation*}\n",
    "\n",
    "In this project, we will apply the deep reinforcement learning techniques to a simple game: an agent will have to learn from scratch a policy that will permit it maximizing a reward."
   ]
  },
  {
   "cell_type": "markdown",
   "metadata": {
    "colab_type": "text",
    "id": "buuRZv9KWCHY"
   },
   "source": [
    "## The environment, the agent and the game"
   ]
  },
  {
   "cell_type": "markdown",
   "metadata": {
    "colab_type": "text",
    "id": "TLJkJsbeWCHY"
   },
   "source": [
    "### The environment"
   ]
  },
  {
   "cell_type": "markdown",
   "metadata": {
    "colab_type": "text",
    "id": "qrSiis4dWCHZ"
   },
   "source": [
    "```Environment``` is an abstract class that represents the states, rewards, and actions to obtain the new state."
   ]
  },
  {
   "cell_type": "code",
   "execution_count": 0,
   "metadata": {
    "colab": {},
    "colab_type": "code",
    "id": "9zjjr4HxWCHa"
   },
   "outputs": [],
   "source": [
    "class Environment(object):\n",
    "    def __init__(self):\n",
    "        pass\n",
    "\n",
    "    def act(self, act):\n",
    "        \"\"\"\n",
    "        One can act on the environment and obtain its reaction:\n",
    "        - the new state\n",
    "        - the reward of the new state\n",
    "        - should we continue the game?\n",
    "\n",
    "        :return: state, reward, game_over\n",
    "        \"\"\"\n",
    "        pass\n",
    "\n",
    "    def reset(self):\n",
    "        \"\"\"\n",
    "        Reinitialize the environment to a random state and returns\n",
    "        the original state\n",
    "\n",
    "        :return: state\n",
    "        \"\"\"\n",
    "        pass\n",
    "\n",
    "    def draw(self):\n",
    "        \"\"\"\n",
    "        Visualize in the console or graphically the current state\n",
    "        \"\"\"\n",
    "        pass"
   ]
  },
  {
   "cell_type": "markdown",
   "metadata": {
    "colab_type": "text",
    "id": "0AXsY5V0WCHc"
   },
   "source": [
    "The method ```act``` allows to act on the environment at a given state $s_t$ (stored internally), via action $a_t$. The method will return the new state $s_{t+1}$, the reward $r(s_{t},a_{t})$ and determines if $t\\leq T$ (*game_over*).\n",
    "\n",
    "The method ```reset``` simply reinitializes the environment to a random state $s_0$.\n",
    "\n",
    "The method ```draw``` displays the current state $s_t$ (this is useful to check the behavior of the Agent).\n",
    "\n",
    "We modelize $s_t$ as a tensor, while $a_t$ is an integer."
   ]
  },
  {
   "cell_type": "markdown",
   "metadata": {
    "colab_type": "text",
    "id": "VjaMXmkuWCHd"
   },
   "source": [
    "### The Agent"
   ]
  },
  {
   "cell_type": "markdown",
   "metadata": {
    "colab_type": "text",
    "id": "we1nK28gWCHe"
   },
   "source": [
    "The goal of the ```Agent``` is to interact with the ```Environment``` by proposing actions $a_t$ obtained from a given state $s_t$ to attempt to maximize its __reward__ $r(s_t,a_t)$. We propose the following abstract class:"
   ]
  },
  {
   "cell_type": "code",
   "execution_count": 0,
   "metadata": {
    "colab": {},
    "colab_type": "code",
    "id": "mTusYSO0WCHf"
   },
   "outputs": [],
   "source": [
    "class Agent(object):\n",
    "    def __init__(self, epsilon=0.1, n_action=4):\n",
    "        self.epsilon = epsilon\n",
    "        self.n_action = n_action\n",
    "\n",
    "    def set_epsilon(self, e):\n",
    "        self.epsilon = e\n",
    "\n",
    "    def act(self, s, train=True):\n",
    "        \"\"\" This function should return the next action to do:\n",
    "        an integer between 0 and 4 (not included) with a random exploration of epsilon\"\"\"\n",
    "        if train:\n",
    "            if np.random.rand() <= self.epsilon:\n",
    "                a = np.random.randint(0, self.n_action, size=1)[0]\n",
    "            else:\n",
    "                a = self.learned_act(s)\n",
    "        else:  # in some cases, this can improve the performance.. remove it if poor performances\n",
    "            a = self.learned_act(s)\n",
    "\n",
    "        return a\n",
    "\n",
    "    def learned_act(self, s):\n",
    "        \"\"\" Act via the policy of the agent, from a given state s\n",
    "        it proposes an action a\"\"\"\n",
    "        pass\n",
    "\n",
    "    def reinforce(self, s, n_s, a, r, game_over_):\n",
    "        \"\"\" This function is the core of the learning algorithm. \n",
    "        It takes as an input the current state s_, the next state n_s_\n",
    "        the action a_ used to move from s_ to n_s_ and the reward r_.\n",
    "        \n",
    "        Its goal is to learn a policy.\n",
    "        \"\"\"\n",
    "        pass\n",
    "\n",
    "    def save(self):\n",
    "        \"\"\" This function returns basic stats if applicable: the\n",
    "        loss and/or the model\"\"\"\n",
    "        pass\n",
    "\n",
    "    def load(self):\n",
    "        \"\"\" This function allows to restore a model\"\"\"\n",
    "        pass"
   ]
  },
  {
   "cell_type": "markdown",
   "metadata": {
    "colab_type": "text",
    "id": "PmyOL-K_WCHh"
   },
   "source": [
    "***\n",
    "__Question 1__:\n",
    "Explain the function act. Why is ```epsilon``` essential?"
   ]
  },
  {
   "cell_type": "markdown",
   "metadata": {
    "colab_type": "text",
    "id": "uIvyKnRDWCHi"
   },
   "source": [
    "The function `act` allows the agent to choose an action given its current state. Here, it follows an $\\varepsilon$-greedy exploration: it takes a random action with probability $\\varepsilon \\in [0, 1]$ among the set of all possible actions. Otherwise, it chooses the **greedy** action $a^* \\in \\arg \\max_a Q^\\pi (s, a)$ (where $s$ is the agent's current state).\n",
    "\n",
    "$\\varepsilon$ is essential as it allows the agent to sufficiently explore the possible states and update their $Q$-values. The value of $\\varepsilon$ is usually decayed during the training to force the agent to explore more at the beggining."
   ]
  },
  {
   "cell_type": "markdown",
   "metadata": {
    "colab_type": "text",
    "id": "urDuC_PtWCHj"
   },
   "source": [
    "***\n",
    "### The Game"
   ]
  },
  {
   "cell_type": "markdown",
   "metadata": {
    "colab_type": "text",
    "id": "auRzjUAqWCHj"
   },
   "source": [
    "The ```Agent``` and the ```Environment``` work in an interlaced way as in the following (take some time to understand this code as it is the core of the project)\n",
    "\n",
    "```python\n",
    "\n",
    "epoch = 300\n",
    "env = Environment()\n",
    "agent = Agent()\n",
    "\n",
    "\n",
    "# Number of won games\n",
    "score = 0\n",
    "loss = 0\n",
    "\n",
    "\n",
    "for e in range(epoch):\n",
    "    # At each epoch, we restart to a fresh game and get the initial state\n",
    "    state = env.reset()\n",
    "    # This assumes that the games will end\n",
    "    game_over = False\n",
    "\n",
    "    win = 0\n",
    "    lose = 0\n",
    "    \n",
    "    while not game_over:\n",
    "        # The agent performs an action\n",
    "        action = agent.act(state)\n",
    "\n",
    "        # Apply an action to the environment, get the next state, the reward\n",
    "        # and if the games end\n",
    "        prev_state = state\n",
    "        state, reward, game_over = env.act(action)\n",
    "\n",
    "        # Update the counters\n",
    "        if reward > 0:\n",
    "            win = win + reward\n",
    "        if reward < 0:\n",
    "            lose = lose -reward\n",
    "\n",
    "        # Apply the reinforcement strategy\n",
    "        loss = agent.reinforce(prev_state, state,  action, reward, game_over)\n",
    "\n",
    "    # Save as a mp4\n",
    "    if e % 10 == 0:\n",
    "        env.draw(e)\n",
    "\n",
    "    # Update stats\n",
    "    score += win-lose\n",
    "\n",
    "    print(\"Epoch {:03d}/{:03d} | Loss {:.4f} | Win/lose count {}/{} ({})\"\n",
    "          .format(e, epoch, loss, win, lose, win-lose))\n",
    "    agent.save()\n",
    "```"
   ]
  },
  {
   "cell_type": "markdown",
   "metadata": {
    "colab_type": "text",
    "id": "vbbEnCIfWCHk"
   },
   "source": [
    "# The game, *eat cheese*"
   ]
  },
  {
   "cell_type": "markdown",
   "metadata": {
    "colab_type": "text",
    "id": "vis_WJ02WCHl"
   },
   "source": [
    "A rat runs on an island and tries to eat as much as possible. The island is subdivided into $N\\times N$ cells, in which there are cheese (+0.5) and poisonous cells (-1). The rat has a visibility of 2 cells (thus it can see $5^2$ cells). The rat is given a time $T$ to accumulate as much food as possible. It can perform 4 actions: going up, down, left, right. \n",
    "\n",
    "The goal is to code an agent to solve this task that will learn by trial and error. We propose the following environment:"
   ]
  },
  {
   "cell_type": "code",
   "execution_count": 0,
   "metadata": {
    "colab": {},
    "colab_type": "code",
    "id": "18Za6nc9WCHl"
   },
   "outputs": [],
   "source": [
    "class Environment(object):\n",
    "    def __init__(self, grid_size=10, max_time=500, temperature=0.1):\n",
    "        grid_size = grid_size + 4\n",
    "        self.grid_size = grid_size\n",
    "        self.max_time = max_time\n",
    "        self.temperature = temperature\n",
    "\n",
    "        # board on which one plays\n",
    "        self.board = np.zeros((grid_size, grid_size))\n",
    "        self.position = np.zeros((grid_size, grid_size))\n",
    "\n",
    "        # coordinate of the cat\n",
    "        self.x = 0\n",
    "        self.y = 1\n",
    "\n",
    "        # self time\n",
    "        self.t = 0\n",
    "\n",
    "        self.scale = 16\n",
    "\n",
    "        self.to_draw = np.zeros(\n",
    "            (max_time + 2, grid_size * self.scale, grid_size * self.scale, 3)\n",
    "        )\n",
    "\n",
    "    def draw(self, e):\n",
    "        skvideo.io.vwrite(str(e) + \".mp4\", self.to_draw)\n",
    "\n",
    "    def get_frame(self, t):\n",
    "        b = np.zeros((self.grid_size, self.grid_size, 3)) + 128\n",
    "        b[self.board > 0, 0] = 256\n",
    "        b[self.board < 0, 2] = 256\n",
    "        b[self.x, self.y, :] = 256\n",
    "        b[-2:, :, :] = 0\n",
    "        b[:, -2:, :] = 0\n",
    "        b[:2, :, :] = 0\n",
    "        b[:, :2, :] = 0\n",
    "\n",
    "        b = cv2.resize(\n",
    "            b, None, fx=self.scale, fy=self.scale, interpolation=cv2.INTER_NEAREST\n",
    "        )\n",
    "\n",
    "        self.to_draw[t, :, :, :] = b\n",
    "\n",
    "    def act(self, action):\n",
    "        \"\"\"This function returns the new state, reward and decides if the\n",
    "        game ends.\"\"\"\n",
    "\n",
    "        self.get_frame(int(self.t))\n",
    "\n",
    "        self.position = np.zeros((self.grid_size, self.grid_size))\n",
    "\n",
    "        self.position[0:2, :] = -1\n",
    "        self.position[:, 0:2] = -1\n",
    "        self.position[-2:, :] = -1\n",
    "        self.position[-2:, :] = -1\n",
    "\n",
    "        self.position[self.x, self.y] = 1\n",
    "        if action == 0:\n",
    "            if self.x == self.grid_size - 3:\n",
    "                self.x = self.x - 1\n",
    "            else:\n",
    "                self.x = self.x + 1\n",
    "        elif action == 1:\n",
    "            if self.x == 2:\n",
    "                self.x = self.x + 1\n",
    "            else:\n",
    "                self.x = self.x - 1\n",
    "        elif action == 2:\n",
    "            if self.y == self.grid_size - 3:\n",
    "                self.y = self.y - 1\n",
    "            else:\n",
    "                self.y = self.y + 1\n",
    "        elif action == 3:\n",
    "            if self.y == 2:\n",
    "                self.y = self.y + 1\n",
    "            else:\n",
    "                self.y = self.y - 1\n",
    "        else:\n",
    "            RuntimeError(\"Error: action not recognized\")\n",
    "\n",
    "        self.t = self.t + 1\n",
    "        reward = self.board[self.x, self.y]\n",
    "        self.board[self.x, self.y] = 0\n",
    "        game_over = self.t > self.max_time\n",
    "        state = np.concatenate(\n",
    "            (\n",
    "                self.board.reshape(self.grid_size, self.grid_size, 1),\n",
    "                self.position.reshape(self.grid_size, self.grid_size, 1),\n",
    "            ),\n",
    "            axis=2,\n",
    "        )\n",
    "        state = state[self.x - 2 : self.x + 3, self.y - 2 : self.y + 3, :]\n",
    "\n",
    "        return state, reward, game_over\n",
    "\n",
    "    def reset(self):\n",
    "        \"\"\"This function resets the game and returns the initial state\"\"\"\n",
    "\n",
    "        self.x = np.random.randint(3, self.grid_size - 3, size=1)[0]\n",
    "        self.y = np.random.randint(3, self.grid_size - 3, size=1)[0]\n",
    "\n",
    "        bonus = 0.5 * np.random.binomial(1, self.temperature, size=self.grid_size ** 2)\n",
    "        bonus = bonus.reshape(self.grid_size, self.grid_size)\n",
    "\n",
    "        malus = -1.0 * np.random.binomial(1, self.temperature, size=self.grid_size ** 2)\n",
    "        malus = malus.reshape(self.grid_size, self.grid_size)\n",
    "\n",
    "        self.to_draw = np.zeros(\n",
    "            (\n",
    "                self.max_time + 2,\n",
    "                self.grid_size * self.scale,\n",
    "                self.grid_size * self.scale,\n",
    "                3,\n",
    "            )\n",
    "        )\n",
    "\n",
    "        malus[bonus > 0] = 0\n",
    "\n",
    "        self.board = bonus + malus\n",
    "\n",
    "        self.position = np.zeros((self.grid_size, self.grid_size))\n",
    "        self.position[0:2, :] = -1\n",
    "        self.position[:, 0:2] = -1\n",
    "        self.position[-2:, :] = -1\n",
    "        self.position[-2:, :] = -1\n",
    "        self.board[self.x, self.y] = 0\n",
    "        self.t = 0\n",
    "\n",
    "        state = np.concatenate(\n",
    "            (\n",
    "                self.board.reshape(self.grid_size, self.grid_size, 1),\n",
    "                self.position.reshape(self.grid_size, self.grid_size, 1),\n",
    "            ),\n",
    "            axis=2,\n",
    "        )\n",
    "\n",
    "        state = state[self.x - 2 : self.x + 3, self.y - 2 : self.y + 3, :]\n",
    "        return state"
   ]
  },
  {
   "cell_type": "markdown",
   "metadata": {
    "colab_type": "text",
    "id": "RcZBfSvrWCHo"
   },
   "source": [
    "The following elements are important because they correspond to the hyper parameters for this project:"
   ]
  },
  {
   "cell_type": "code",
   "execution_count": 0,
   "metadata": {
    "colab": {},
    "colab_type": "code",
    "id": "vexHdnN8WCHp"
   },
   "outputs": [],
   "source": [
    "# parameters\n",
    "size = 13\n",
    "T = 200\n",
    "temperature = 0.3\n",
    "epochs_train = 50  # set small when debugging\n",
    "epochs_test = 10  # set small when debugging\n",
    "beta = 5.  # epsilon decay speed\n",
    "\n",
    "# display videos\n",
    "def display_videos(name):\n",
    "    video = io.open(name, \"r+b\").read()\n",
    "    encoded = base64.b64encode(video)\n",
    "    return \"\"\"<video alt=\"test\" controls>\n",
    "                <source src=\"data:video/mp4;base64,{0}\" type=\"video/mp4\" />\n",
    "             </video>\"\"\".format(\n",
    "        encoded.decode(\"ascii\")\n",
    "    )"
   ]
  },
  {
   "cell_type": "markdown",
   "metadata": {
    "colab_type": "text",
    "id": "s-D6aRstWCHr"
   },
   "source": [
    "__Question 2__ Explain the use of the arrays ```position``` and ```board```."
   ]
  },
  {
   "cell_type": "markdown",
   "metadata": {
    "colab_type": "text",
    "id": "NYoAhvk7WCHr"
   },
   "source": [
    "`position` is an array that keeps track of the player position (1 where the player is, -1 on edges, and 0 elsewhere). `board` gives the rewards of each position (0.5 for a cheese, -1 for poison and 0 elsewhere). "
   ]
  },
  {
   "cell_type": "markdown",
   "metadata": {
    "colab_type": "text",
    "id": "9mLkUREJWCHs"
   },
   "source": [
    "## Random Agent"
   ]
  },
  {
   "cell_type": "markdown",
   "metadata": {
    "colab_type": "text",
    "id": "pLK8A74TWCHt"
   },
   "source": [
    "***\n",
    "__Question 3__ Implement a random Agent (only ```learned_act``` needs to be implemented):"
   ]
  },
  {
   "cell_type": "code",
   "execution_count": 0,
   "metadata": {
    "colab": {},
    "colab_type": "code",
    "id": "YDgMCcarWCHt"
   },
   "outputs": [],
   "source": [
    "class RandomAgent(Agent):\n",
    "    def __init__(self):\n",
    "        super(RandomAgent, self).__init__()\n",
    "        pass\n",
    "\n",
    "    def learned_act(self, s):\n",
    "        # Take a random action (between the 4 possible actions)\n",
    "        return np.random.randint(self.n_action)"
   ]
  },
  {
   "cell_type": "markdown",
   "metadata": {
    "colab_type": "text",
    "id": "kgxHHE0wWCHw"
   },
   "source": [
    "***\n",
    "***\n",
    "__Question 4__ Visualize the game moves. You need to fill in the following function for the evaluation:"
   ]
  },
  {
   "cell_type": "code",
   "execution_count": 0,
   "metadata": {
    "colab": {},
    "colab_type": "code",
    "id": "XPbTxf_-WCHw"
   },
   "outputs": [],
   "source": [
    "def test(agent, env, epochs, prefix=\"\"):\n",
    "    # Number of won games\n",
    "    score = 0\n",
    "\n",
    "    for e in range(1, epochs + 1):\n",
    "        # At each epoch, we restart to a fresh game and get the initial state\n",
    "        state = env.reset()\n",
    "        # This assumes that the games will end\n",
    "        game_over = False\n",
    "\n",
    "        win = 0\n",
    "        lose = 0\n",
    "\n",
    "        while not game_over:\n",
    "            # The agent performs an action\n",
    "            action = agent.act(state)\n",
    "\n",
    "            # Apply an action to the environment, get the next state, the reward\n",
    "            # and if the games end\n",
    "            prev_state = state\n",
    "            state, reward, game_over = env.act(action)\n",
    "\n",
    "            # Update the counters\n",
    "            if reward > 0:\n",
    "                win = win + reward\n",
    "            if reward < 0:\n",
    "                lose = lose - reward\n",
    "\n",
    "        # Save as a mp4\n",
    "        env.draw(prefix + str(e))\n",
    "\n",
    "        # Update stats\n",
    "        score = score + win - lose\n",
    "\n",
    "        print(\n",
    "            \"Win/lose count {}/{}. Average score ({})\".format(\n",
    "                win, lose, score / (1 + e)\n",
    "            )\n",
    "        )\n",
    "    print(\"Final score: \" + str(score / epochs))"
   ]
  },
  {
   "cell_type": "code",
   "execution_count": 0,
   "metadata": {
    "colab": {
     "base_uri": "https://localhost:8080/",
     "height": 480
    },
    "colab_type": "code",
    "id": "NX48NNFwWCHz",
    "outputId": "36cdcdff-2e58-49c3-df99-d9512e4b1287"
   },
   "outputs": [
    {
     "name": "stdout",
     "output_type": "stream",
     "text": [
      "Win/lose count 6.5/13.0. Average score (-3.25)\n",
      "Win/lose count 8.0/17.0. Average score (-5.166666666666667)\n",
      "Win/lose count 6.0/13.0. Average score (-5.625)\n",
      "Win/lose count 12.0/12.0. Average score (-4.5)\n",
      "Win/lose count 7.5/19.0. Average score (-5.666666666666667)\n",
      "Win/lose count 12.5/12.0. Average score (-4.785714285714286)\n",
      "Win/lose count 12.0/18.0. Average score (-4.9375)\n",
      "Win/lose count 8.5/7.0. Average score (-4.222222222222222)\n",
      "Win/lose count 11.0/17.0. Average score (-4.4)\n",
      "Win/lose count 7.0/11.0. Average score (-4.363636363636363)\n",
      "Final score: -4.8\n"
     ]
    },
    {
     "data": {
      "text/html": [
       "<video alt=\"test\" controls>\n",
       "                <source src=\"data:video/mp4;base64,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\" type=\"video/mp4\" />\n",
       "             </video>"
      ],
      "text/plain": [
       "<IPython.core.display.HTML object>"
      ]
     },
     "execution_count": 25,
     "metadata": {
      "tags": []
     },
     "output_type": "execute_result"
    }
   ],
   "source": [
    "# Initialize the game\n",
    "env = Environment(grid_size=size, max_time=T, temperature=temperature)\n",
    "\n",
    "# Initialize the agent!\n",
    "agent = RandomAgent()\n",
    "\n",
    "test(agent, env, epochs_test, prefix=\"random\")\n",
    "HTML(display_videos(\"random10.mp4\"))"
   ]
  },
  {
   "cell_type": "markdown",
   "metadata": {
    "colab_type": "text",
    "id": "lBORb9ZHWCH1"
   },
   "source": [
    "***\n",
    "## DQN"
   ]
  },
  {
   "cell_type": "markdown",
   "metadata": {
    "colab_type": "text",
    "id": "k-mkyiW4WCH2"
   },
   "source": [
    "Let us assume here that $T=\\infty$.\n",
    "\n",
    "***\n",
    "__Question 5__ Let $\\pi$ be a policy, show that:\n",
    "\n",
    "\\begin{equation*}\n",
    "Q^{\\pi}(s,a)=E_{(s',a')\\sim p(.|s,a)}[r(s,a)+\\gamma Q^{\\pi}(s',a')]\n",
    "\\end{equation*}\n",
    "\n",
    "Then, show that for the optimal policy $\\pi^*$ (we assume its existence), the following holds: \n",
    "\n",
    "\\begin{equation*}\n",
    "Q^{*}(s,a)=E_{s'\\sim \\pi^*(.|s,a)}[r(s,a)+\\gamma\\max_{a'}Q^{*}(s',a')].\n",
    "\\end{equation*}\n",
    "Finally, deduce that a plausible objective is:\n",
    "\n",
    "\\begin{equation*}\n",
    "\\mathcal{L}(\\theta)=E_{s' \\sim \\pi^*(.|s,a)}\\Vert r+\\gamma\\max_{a'}Q(s',a',\\theta)-Q(s,a,\\theta)\\Vert^{2}.\n",
    "\\end{equation*}\n",
    "\n",
    "\n"
   ]
  },
  {
   "cell_type": "markdown",
   "metadata": {
    "colab_type": "text",
    "id": "r16lCUe5WCH4"
   },
   "source": [
    "***\n",
    "We have by definition:\n",
    "\\begin{align*}\n",
    "    Q^\\pi (s, a) &= E_{p^\\pi}\\left[\\left.\\sum_{t=0}^\\infty \\gamma^tr(s_t, a_t)\\right|s_0=s, a_0 = a \\right]\\\\\n",
    "    &=r(s, a) + \\gamma E_{(s',a')\\sim p(.|s,a)}\\left[E_{p^\\pi}\\left[\\left.\\sum_{t=1}^\\infty \\gamma^{t-1}r(s_t, a_t)\\right|s_1=s', a_1 = a' \\right]\\right]\\\\\n",
    "    &=r(s, a) + \\gamma E_{(s',a')\\sim p(.|s,a)}\\left[E_{p^\\pi}\\left[\\left.\\sum_{t=0}^\\infty \\gamma^{t}r(s_{t+1}, a_{t+1})\\right|s_1=s', a_1 = a' \\right]\\right]\n",
    "\\end{align*}\n",
    "\n",
    "But, by homogeneity:\n",
    "\\begin{align*}\n",
    "    E_{p^\\pi}\\left[\\left.\\sum_{t=0}^\\infty \\gamma^{t}r(s_{t+1}, a_{t+1})\\right|s_1=s', a_1 = a' \\right] &= E_{p^\\pi}\\left[\\left.\\sum_{t=0}^\\infty \\gamma^tr(s_t, a_t)\\right|s_0=s', a_0 = a' \\right]\\\\\n",
    "    &=Q^\\pi(s', a')\n",
    "\\end{align*}\n",
    "\n",
    "Then, we finally have:\n",
    "\\begin{align*}\n",
    "    Q^\\pi (s, a) &= r(s, a) + \\gamma E_{(s',a')\\sim p(.|s,a)}\\left[Q^\\pi(s', a')\\right]\\\\\n",
    "    &= E_{(s',a')\\sim p(.|s,a)}\\left[r(s, a) + \\gamma Q^\\pi(s', a')\\right]\n",
    "\\end{align*}\n",
    "\n",
    "***\n",
    "We can assume that the optimal policy is deterministic and denote by $\\pi^*(s)$ the best action from the state $s$. By the first equality, we have:\n",
    "\\begin{align*}\n",
    "Q^{*}(s,a) &= E_{(s', a')\\sim p^{\\pi^*}(.|s,a)}\\left[r(s,a)+\\gamma Q^{*}(s',a')\\right]\\\\\n",
    "&= E_{s'\\sim \\pi^{*}(.|s,a)}\\left[r(s,a)+\\gamma Q^{*}(s',\\pi^*(s'))\\right]\\\\\n",
    "&= E_{s'\\sim \\pi^{*}(.|s,a)}\\left[r(s,a)+\\gamma \\max_{a'}Q^{*}(s',a')\\right]\n",
    "\\end{align*}\n",
    "***\n",
    "\n",
    "We want to minimize the TD error at each time $t$ given by $\\delta_t(\\theta) = r_t + \\gamma \\max_{a'}Q(s_\n",
    "{t+1}, a', \\theta) - Q(s_t, a_t, \\theta)$ . Then the objective:\n",
    "\\begin{equation*}\n",
    "    \\mathcal{L}(\\theta)=E_{s' \\sim \\pi^*(.|s,a)}\\left[\\left\\| r+\\gamma\\max_{a'}Q(s',a',\\theta)-Q(s,a,\\theta)\\right\\|^{2}\\right]\n",
    "\\end{equation*}\n",
    "is plausible."
   ]
  },
  {
   "cell_type": "markdown",
   "metadata": {
    "colab_type": "text",
    "id": "Sx0AOJ9wWCH5"
   },
   "source": [
    "***\n",
    "The DQN-learning algorithm relies on these derivations to train the parameters $\\theta$ of a Deep Neural Network:\n",
    "\n",
    "1. At the state $s_t$, select the action $a_t$ with best reward using $Q_t$ and store the results;\n",
    "\n",
    "2. Obtain the new state $s_{t+1}$ from the environment $p$;\n",
    "\n",
    "3. Store $(s_t,a_t,s_{t+1})$;\n",
    "\n",
    "4. Obtain $Q_{t+1}$ by minimizing  $\\mathcal{L}$ from a recovered batch from the previously stored results.\n",
    "\n",
    "***\n",
    "__Question 6__ Implement the class ```Memory``` that stores moves (in a replay buffer) via ```remember``` and provides a ```random_access``` to these. Specify a maximum memory size to avoid side effects. You can for example use a ```list()``` and set by default ```max_memory=100```."
   ]
  },
  {
   "cell_type": "code",
   "execution_count": 0,
   "metadata": {
    "colab": {},
    "colab_type": "code",
    "id": "3wbFT1W-WCH5"
   },
   "outputs": [],
   "source": [
    "class Memory(object):\n",
    "    def __init__(self, max_memory=100):\n",
    "        self.max_memory = max_memory\n",
    "        self.memory = list()\n",
    "        self.position = 0\n",
    "\n",
    "    def remember(self, m):\n",
    "        if len(self.memory) < self.max_memory:\n",
    "            self.memory.append(m)\n",
    "        else:\n",
    "            self.memory[self.position % self.max_memory] = m\n",
    "\n",
    "        self.position += 1\n",
    "\n",
    "    def random_access(self):\n",
    "        return self.memory[np.random.randint(len(self.memory))]"
   ]
  },
  {
   "cell_type": "markdown",
   "metadata": {
    "colab_type": "text",
    "id": "XYsTuhJrWCH8"
   },
   "source": [
    "***\n",
    "The pipeline we will use for training is given below:"
   ]
  },
  {
   "cell_type": "code",
   "execution_count": 0,
   "metadata": {
    "colab": {},
    "colab_type": "code",
    "id": "bPun4YZAWCH8"
   },
   "outputs": [],
   "source": [
    "def train(agent, env, epoch, prefix=\"\"):\n",
    "    # Number of won games\n",
    "    score = 0\n",
    "    loss = 0\n",
    "\n",
    "    for e in range(1, epoch + 1):\n",
    "        # At each epoch, we restart to a fresh game and get the initial state\n",
    "        state = env.reset()\n",
    "        # This assumes that the games will terminate\n",
    "        game_over = False\n",
    "\n",
    "        win = 0\n",
    "        lose = 0\n",
    "\n",
    "        while not game_over:\n",
    "            # The agent performs an action\n",
    "            action = agent.act(state)\n",
    "\n",
    "            # Apply an action to the environment, get the next state, the reward\n",
    "            # and if the games end\n",
    "            prev_state = state\n",
    "            state, reward, game_over = env.act(action)\n",
    "\n",
    "            # Update the counters\n",
    "            if reward > 0:\n",
    "                win = win + reward\n",
    "            if reward < 0:\n",
    "                lose = lose - reward\n",
    "\n",
    "            # Apply the reinforcement strategy\n",
    "            loss = agent.reinforce(prev_state, state, action, reward, game_over)\n",
    "\n",
    "        # Save as a mp4\n",
    "        if e % 10 == 0:\n",
    "            env.draw(prefix + str(e))\n",
    "\n",
    "        # Update stats\n",
    "        score += win - lose\n",
    "\n",
    "        print(\n",
    "            \"Epoch {:03d}/{:03d} | Loss {:.4f} | Win/lose count {}/{} ({})\".format(\n",
    "                e, epoch, loss, win, lose, win - lose\n",
    "            )\n",
    "        )\n",
    "        agent.save(name_weights=prefix + \"model.h5\", name_model=prefix + \"model.json\")"
   ]
  },
  {
   "cell_type": "markdown",
   "metadata": {
    "colab_type": "text",
    "id": "ZbyY6mzdWCH_"
   },
   "source": [
    "***\n",
    "__Question 7__ Implement the DQN training algorithm using a cascade of fully connected layers. You can use different learning rate, batch size or memory size parameters. In particular, the loss might oscillate while the player will start to win the games. You have to find a good criterium."
   ]
  },
  {
   "cell_type": "code",
   "execution_count": 0,
   "metadata": {
    "colab": {},
    "colab_type": "code",
    "id": "buIHSwHjWCH_"
   },
   "outputs": [],
   "source": [
    "class DQN(Agent):\n",
    "    def __init__(\n",
    "        self, grid_size, epsilon=0.1, memory_size=100, batch_size=16, n_state=2\n",
    "    ):\n",
    "        super(DQN, self).__init__(epsilon=epsilon)\n",
    "\n",
    "        # Discount for Q learning\n",
    "        self.discount = 0.99\n",
    "\n",
    "        self.grid_size = grid_size\n",
    "\n",
    "        # number of state\n",
    "        self.n_state = n_state\n",
    "\n",
    "        # Memory\n",
    "        self.memory = Memory(memory_size)\n",
    "\n",
    "        # Batch size when learning\n",
    "        self.batch_size = batch_size\n",
    "\n",
    "    def learned_act(self, s):\n",
    "        q = self.model.predict(s.reshape((1, 5, 5, self.n_state)))\n",
    "        return q.argmax(-1)\n",
    "\n",
    "    def reinforce(self, s_, n_s_, a_, r_, game_over_):\n",
    "        # Two steps: first memorize the states, second learn from the pool\n",
    "\n",
    "        self.memory.remember([s_, n_s_, a_, r_, game_over_])\n",
    "\n",
    "        input_states = np.zeros((self.batch_size, 5, 5, self.n_state))\n",
    "        target_q = np.zeros((self.batch_size, 4))\n",
    "\n",
    "        for i in range(self.batch_size):\n",
    "            ######## FILL IN\n",
    "            s_, n_s_, a_, r_, game_over_ = self.memory.random_access()\n",
    "            input_states[i] = s_\n",
    "            target_q[i] = self.model.predict(s_.reshape((1, 5, 5, self.n_state)))\n",
    "\n",
    "            if game_over_:\n",
    "                ######## FILL IN\n",
    "                target_q[i, a_] = r_\n",
    "            else:\n",
    "                ######## FILL IN\n",
    "                target_q[i, a_] = r_ + self.model.predict(\n",
    "                    s_.reshape((1, 5, 5, self.n_state))\n",
    "                ).max(-1)\n",
    "        ######## FILL IN\n",
    "        # HINT: Clip the target to avoid exploiding gradients. -- clipping is a bit tighter\n",
    "        target_q = np.clip(target_q, -3, 3)\n",
    "\n",
    "        l = self.model.train_on_batch(input_states, target_q)\n",
    "\n",
    "        return l\n",
    "\n",
    "    def save(self, name_weights=\"model.h5\", name_model=\"model.json\"):\n",
    "        self.model.save_weights(name_weights, overwrite=True)\n",
    "        with open(name_model, \"w\") as outfile:\n",
    "            json.dump(self.model.to_json(), outfile)\n",
    "\n",
    "    def load(self, name_weights=\"model.h5\", name_model=\"model.json\"):\n",
    "        with open(name_model, \"r\") as jfile:\n",
    "            model = model_from_json(json.load(jfile))\n",
    "        model.load_weights(name_weights)\n",
    "        model.compile(\"sgd\", \"mse\")\n",
    "        self.model = model\n",
    "\n",
    "\n",
    "class DQN_FC(DQN):\n",
    "    def __init__(self, *args, lr=0.1, **kwargs):\n",
    "        super(DQN_FC, self).__init__(*args, **kwargs)\n",
    "\n",
    "        # NN Model\n",
    "\n",
    "        ####### FILL IN\n",
    "        model = Sequential()\n",
    "        model.add(Flatten(input_shape=(5, 5, self.n_state)))\n",
    "        model.add(Dense(64, activation=\"relu\"))\n",
    "        model.add(Dropout(0.2))\n",
    "        model.add(Dense(self.n_action, activation=\"linear\"))\n",
    "\n",
    "        model.compile(adam(lr=lr, decay=1e-4), \"mse\")\n",
    "        self.model = model"
   ]
  },
  {
   "cell_type": "code",
   "execution_count": 0,
   "metadata": {
    "colab": {
     "base_uri": "https://localhost:8080/",
     "height": 1000
    },
    "colab_type": "code",
    "id": "U5p47yMxWCIB",
    "outputId": "7032c290-2a40-4e2e-f434-e6a1deb97d75"
   },
   "outputs": [
    {
     "name": "stdout",
     "output_type": "stream",
     "text": [
      "WARNING:tensorflow:From /usr/local/lib/python3.6/dist-packages/keras/backend/tensorflow_backend.py:148: The name tf.placeholder_with_default is deprecated. Please use tf.compat.v1.placeholder_with_default instead.\n",
      "\n",
      "WARNING:tensorflow:From /usr/local/lib/python3.6/dist-packages/keras/backend/tensorflow_backend.py:3733: calling dropout (from tensorflow.python.ops.nn_ops) with keep_prob is deprecated and will be removed in a future version.\n",
      "Instructions for updating:\n",
      "Please use `rate` instead of `keep_prob`. Rate should be set to `rate = 1 - keep_prob`.\n",
      "Epoch 001/050 | Loss 0.0071 | Win/lose count 4.0/4.0 (0.0)\n",
      "Epoch 002/050 | Loss 0.0184 | Win/lose count 5.5/3.0 (2.5)\n",
      "Epoch 003/050 | Loss 0.0035 | Win/lose count 2.5/1.0 (1.5)\n",
      "Epoch 004/050 | Loss 0.0116 | Win/lose count 3.0/2.0 (1.0)\n",
      "Epoch 005/050 | Loss 0.0039 | Win/lose count 0/2.0 (-2.0)\n",
      "Epoch 006/050 | Loss 0.0017 | Win/lose count 3.5/4.0 (-0.5)\n",
      "Epoch 007/050 | Loss 0.0083 | Win/lose count 5.0/2.0 (3.0)\n",
      "Epoch 008/050 | Loss 0.0029 | Win/lose count 5.0/1.0 (4.0)\n",
      "Epoch 009/050 | Loss 0.0375 | Win/lose count 3.5/1.0 (2.5)\n",
      "Epoch 010/050 | Loss 0.0158 | Win/lose count 4.0/4.0 (0.0)\n",
      "Epoch 011/050 | Loss 0.0062 | Win/lose count 1.0/1.0 (0.0)\n",
      "Epoch 012/050 | Loss 0.0141 | Win/lose count 4.0/6.0 (-2.0)\n",
      "Epoch 013/050 | Loss 0.0048 | Win/lose count 5.0/6.0 (-1.0)\n",
      "Epoch 014/050 | Loss 0.0104 | Win/lose count 6.0/5.0 (1.0)\n",
      "Epoch 015/050 | Loss 0.0240 | Win/lose count 2.5/5.0 (-2.5)\n",
      "Epoch 016/050 | Loss 0.0034 | Win/lose count 4.0/6.0 (-2.0)\n",
      "Epoch 017/050 | Loss 0.0068 | Win/lose count 3.0/2.0 (1.0)\n",
      "Epoch 018/050 | Loss 0.0016 | Win/lose count 4.0/4.0 (0.0)\n",
      "Epoch 019/050 | Loss 0.0121 | Win/lose count 5.0/0 (5.0)\n",
      "Epoch 020/050 | Loss 0.0022 | Win/lose count 4.0/1.0 (3.0)\n",
      "Epoch 021/050 | Loss 0.0139 | Win/lose count 3.0/2.0 (1.0)\n",
      "Epoch 022/050 | Loss 0.0029 | Win/lose count 4.0/1.0 (3.0)\n",
      "Epoch 023/050 | Loss 0.0181 | Win/lose count 5.5/1.0 (4.5)\n",
      "Epoch 024/050 | Loss 0.0026 | Win/lose count 2.0/1.0 (1.0)\n",
      "Epoch 025/050 | Loss 0.0066 | Win/lose count 3.5/2.0 (1.5)\n",
      "Epoch 026/050 | Loss 0.0084 | Win/lose count 6.0/1.0 (5.0)\n",
      "Epoch 027/050 | Loss 0.0046 | Win/lose count 5.5/4.0 (1.5)\n",
      "Epoch 028/050 | Loss 0.0018 | Win/lose count 3.5/2.0 (1.5)\n",
      "Epoch 029/050 | Loss 0.0020 | Win/lose count 4.0/0 (4.0)\n",
      "Epoch 030/050 | Loss 0.0062 | Win/lose count 6.0/3.0 (3.0)\n",
      "Epoch 031/050 | Loss 0.0019 | Win/lose count 11.5/1.0 (10.5)\n",
      "Epoch 032/050 | Loss 0.0089 | Win/lose count 4.5/0 (4.5)\n",
      "Epoch 033/050 | Loss 0.0045 | Win/lose count 3.5/1.0 (2.5)\n",
      "Epoch 034/050 | Loss 0.0097 | Win/lose count 2.0/3.0 (-1.0)\n",
      "Epoch 035/050 | Loss 0.0036 | Win/lose count 1.5/2.0 (-0.5)\n",
      "Epoch 036/050 | Loss 0.0081 | Win/lose count 3.5/6.0 (-2.5)\n",
      "Epoch 037/050 | Loss 0.0169 | Win/lose count 2.0/4.0 (-2.0)\n",
      "Epoch 038/050 | Loss 0.0215 | Win/lose count 9.0/2.0 (7.0)\n",
      "Epoch 039/050 | Loss 0.0173 | Win/lose count 4.0/1.0 (3.0)\n",
      "Epoch 040/050 | Loss 0.0093 | Win/lose count 7.0/3.0 (4.0)\n",
      "Epoch 041/050 | Loss 0.0083 | Win/lose count 7.0/4.0 (3.0)\n",
      "Epoch 042/050 | Loss 0.0138 | Win/lose count 9.5/5.0 (4.5)\n",
      "Epoch 043/050 | Loss 0.0017 | Win/lose count 6.0/1.0 (5.0)\n",
      "Epoch 044/050 | Loss 0.0013 | Win/lose count 7.5/2.0 (5.5)\n",
      "Epoch 045/050 | Loss 0.0245 | Win/lose count 7.0/3.0 (4.0)\n",
      "Epoch 046/050 | Loss 0.0061 | Win/lose count 8.0/2.0 (6.0)\n",
      "Epoch 047/050 | Loss 0.0031 | Win/lose count 8.5/3.0 (5.5)\n",
      "Epoch 048/050 | Loss 0.0052 | Win/lose count 3.5/3.0 (0.5)\n",
      "Epoch 049/050 | Loss 0.0033 | Win/lose count 8.5/3.0 (5.5)\n",
      "Epoch 050/050 | Loss 0.0036 | Win/lose count 4.0/0 (4.0)\n"
     ]
    },
    {
     "data": {
      "text/html": [
       "<video alt=\"test\" controls>\n",
       "                <source src=\"data:video/mp4;base64,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\" type=\"video/mp4\" />\n",
       "             </video>"
      ],
      "text/plain": [
       "<IPython.core.display.HTML object>"
      ]
     },
     "execution_count": 29,
     "metadata": {
      "tags": []
     },
     "output_type": "execute_result"
    }
   ],
   "source": [
    "env = Environment(grid_size=size, max_time=T, temperature=0.3)\n",
    "agent = DQN_FC(size, lr=0.001, epsilon=0.1, memory_size=2000, batch_size=32)\n",
    "train(agent, env, epochs_train, prefix=\"fc_train\")\n",
    "HTML(display_videos(\"fc_train{}.mp4\".format((epochs_train // 10) * 10)))"
   ]
  },
  {
   "cell_type": "markdown",
   "metadata": {
    "colab_type": "text",
    "id": "xMjs1DmfWCID"
   },
   "source": [
    "***\n",
    "***\n",
    "__Question 8__ Implement the DQN training algorithm using a CNN (for example, 2 convolutional layers and one final fully connected layer)."
   ]
  },
  {
   "cell_type": "code",
   "execution_count": 0,
   "metadata": {
    "colab": {},
    "colab_type": "code",
    "id": "iKchSCdZWCIE"
   },
   "outputs": [],
   "source": [
    "class DQN_CNN(DQN):\n",
    "    def __init__(self, *args, lr=0.1, **kwargs):\n",
    "        super(DQN_CNN, self).__init__(*args, **kwargs)\n",
    "\n",
    "        model = Sequential()\n",
    "        model.add(\n",
    "            Conv2D(\n",
    "                input_shape=(5, 5, self.n_state),\n",
    "                filters=16,\n",
    "                kernel_size=2,\n",
    "                activation=\"relu\",\n",
    "            )\n",
    "        )\n",
    "        model.add(Conv2D(filters=32, kernel_size=2, activation=\"relu\"))\n",
    "        model.add(Flatten())\n",
    "        model.add(Dense(self.n_action, activation=\"linear\"))\n",
    "\n",
    "        model.compile(adam(lr=lr, decay=1e-4), \"mse\")\n",
    "        self.model = model"
   ]
  },
  {
   "cell_type": "code",
   "execution_count": 0,
   "metadata": {
    "colab": {
     "base_uri": "https://localhost:8080/",
     "height": 1000
    },
    "colab_type": "code",
    "id": "1ar-U3euWCIG",
    "outputId": "0e6c98bf-0b83-467a-e4e7-7bbdab3bf6eb"
   },
   "outputs": [
    {
     "name": "stdout",
     "output_type": "stream",
     "text": [
      "Epoch 001/050 | Loss 0.0001 | Win/lose count 3.5/2.0 (1.5)\n",
      "Epoch 002/050 | Loss 0.0006 | Win/lose count 2.5/3.0 (-0.5)\n",
      "Epoch 003/050 | Loss 0.0016 | Win/lose count 2.5/3.0 (-0.5)\n",
      "Epoch 004/050 | Loss 0.0039 | Win/lose count 8.0/5.0 (3.0)\n",
      "Epoch 005/050 | Loss 0.0015 | Win/lose count 2.5/2.0 (0.5)\n",
      "Epoch 006/050 | Loss 0.0065 | Win/lose count 4.0/1.0 (3.0)\n",
      "Epoch 007/050 | Loss 0.0514 | Win/lose count 2.5/4.0 (-1.5)\n",
      "Epoch 008/050 | Loss 0.0009 | Win/lose count 6.0/3.0 (3.0)\n",
      "Epoch 009/050 | Loss 0.0205 | Win/lose count 6.5/3.0 (3.5)\n",
      "Epoch 010/050 | Loss 0.0032 | Win/lose count 3.5/3.0 (0.5)\n",
      "Epoch 011/050 | Loss 0.0018 | Win/lose count 8.0/4.0 (4.0)\n",
      "Epoch 012/050 | Loss 0.1163 | Win/lose count 6.0/1.0 (5.0)\n",
      "Epoch 013/050 | Loss 0.0052 | Win/lose count 5.0/3.0 (2.0)\n",
      "Epoch 014/050 | Loss 0.0006 | Win/lose count 8.0/2.0 (6.0)\n",
      "Epoch 015/050 | Loss 0.0022 | Win/lose count 4.5/3.0 (1.5)\n",
      "Epoch 016/050 | Loss 0.0006 | Win/lose count 9.0/4.0 (5.0)\n",
      "Epoch 017/050 | Loss 0.0005 | Win/lose count 5.0/3.0 (2.0)\n",
      "Epoch 018/050 | Loss 0.0008 | Win/lose count 6.5/4.0 (2.5)\n",
      "Epoch 019/050 | Loss 0.0005 | Win/lose count 8.5/5.0 (3.5)\n",
      "Epoch 020/050 | Loss 0.0019 | Win/lose count 6.5/2.0 (4.5)\n",
      "Epoch 021/050 | Loss 0.0005 | Win/lose count 4.0/4.0 (0.0)\n",
      "Epoch 022/050 | Loss 0.0012 | Win/lose count 3.0/2.0 (1.0)\n",
      "Epoch 023/050 | Loss 0.0033 | Win/lose count 2.5/4.0 (-1.5)\n",
      "Epoch 024/050 | Loss 0.0011 | Win/lose count 8.5/1.0 (7.5)\n",
      "Epoch 025/050 | Loss 0.0007 | Win/lose count 9.0/3.0 (6.0)\n",
      "Epoch 026/050 | Loss 0.0012 | Win/lose count 12.0/6.0 (6.0)\n",
      "Epoch 027/050 | Loss 0.0001 | Win/lose count 8.0/4.0 (4.0)\n",
      "Epoch 028/050 | Loss 0.0009 | Win/lose count 11.5/7.0 (4.5)\n",
      "Epoch 029/050 | Loss 0.0009 | Win/lose count 7.0/3.0 (4.0)\n",
      "Epoch 030/050 | Loss 0.0013 | Win/lose count 4.0/2.0 (2.0)\n",
      "Epoch 031/050 | Loss 0.0606 | Win/lose count 14.0/4.0 (10.0)\n",
      "Epoch 032/050 | Loss 0.0013 | Win/lose count 8.5/3.0 (5.5)\n",
      "Epoch 033/050 | Loss 0.0008 | Win/lose count 6.5/1.0 (5.5)\n",
      "Epoch 034/050 | Loss 0.0021 | Win/lose count 12.0/3.0 (9.0)\n",
      "Epoch 035/050 | Loss 0.0007 | Win/lose count 8.5/1.0 (7.5)\n",
      "Epoch 036/050 | Loss 0.0012 | Win/lose count 9.0/5.0 (4.0)\n",
      "Epoch 037/050 | Loss 0.0006 | Win/lose count 8.0/3.0 (5.0)\n",
      "Epoch 038/050 | Loss 0.0020 | Win/lose count 7.0/7.0 (0.0)\n",
      "Epoch 039/050 | Loss 0.0015 | Win/lose count 13.5/3.0 (10.5)\n",
      "Epoch 040/050 | Loss 0.0073 | Win/lose count 6.0/0 (6.0)\n",
      "Epoch 041/050 | Loss 0.0018 | Win/lose count 9.0/3.0 (6.0)\n",
      "Epoch 042/050 | Loss 0.0067 | Win/lose count 12.0/4.0 (8.0)\n",
      "Epoch 043/050 | Loss 0.0007 | Win/lose count 5.0/4.0 (1.0)\n",
      "Epoch 044/050 | Loss 0.0489 | Win/lose count 7.0/2.0 (5.0)\n",
      "Epoch 045/050 | Loss 0.0022 | Win/lose count 8.0/4.0 (4.0)\n",
      "Epoch 046/050 | Loss 0.0563 | Win/lose count 8.0/1.0 (7.0)\n",
      "Epoch 047/050 | Loss 0.0009 | Win/lose count 6.5/3.0 (3.5)\n",
      "Epoch 048/050 | Loss 0.0014 | Win/lose count 4.5/2.0 (2.5)\n",
      "Epoch 049/050 | Loss 0.0011 | Win/lose count 8.0/4.0 (4.0)\n",
      "Epoch 050/050 | Loss 0.0020 | Win/lose count 11.0/8.0 (3.0)\n"
     ]
    },
    {
     "data": {
      "text/html": [
       "<video alt=\"test\" controls>\n",
       "                <source src=\"data:video/mp4;base64,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\" type=\"video/mp4\" />\n",
       "             </video>"
      ],
      "text/plain": [
       "<IPython.core.display.HTML object>"
      ]
     },
     "execution_count": 31,
     "metadata": {
      "tags": []
     },
     "output_type": "execute_result"
    }
   ],
   "source": [
    "env = Environment(grid_size=size, max_time=T, temperature=0.3)\n",
    "agent = DQN_CNN(size, lr=0.001, epsilon=0.1, memory_size=2000, batch_size=32)\n",
    "train(agent, env, epochs_train, prefix=\"cnn_train\")\n",
    "HTML(display_videos(\"cnn_train{}.mp4\".format((epochs_train // 10) * 10)))"
   ]
  },
  {
   "cell_type": "markdown",
   "metadata": {
    "colab_type": "text",
    "id": "56jkPJfXWCII"
   },
   "source": [
    "***\n",
    "***\n",
    "__Question 9__ Test both algorithms and compare their performances. Which issue(s) do you observe? Observe also different behaviors by changing the temperature."
   ]
  },
  {
   "cell_type": "code",
   "execution_count": 0,
   "metadata": {
    "colab": {
     "base_uri": "https://localhost:8080/",
     "height": 425
    },
    "colab_type": "code",
    "id": "SkDwWl3sWCII",
    "outputId": "b35c8444-4261-443a-d5be-53a41e71f54d"
   },
   "outputs": [
    {
     "name": "stdout",
     "output_type": "stream",
     "text": [
      "Test of the CNN\n",
      "Win/lose count 9.5/3.0. Average score (3.25)\n",
      "Win/lose count 3.0/2.0. Average score (2.5)\n",
      "Win/lose count 12.0/2.0. Average score (4.375)\n",
      "Win/lose count 4.5/0. Average score (4.4)\n",
      "Win/lose count 3.5/1.0. Average score (4.083333333333333)\n",
      "Win/lose count 8.0/9.0. Average score (3.357142857142857)\n",
      "Win/lose count 7.0/0. Average score (3.8125)\n",
      "Win/lose count 6.0/3.0. Average score (3.7222222222222223)\n",
      "Win/lose count 2.5/3.0. Average score (3.3)\n",
      "Win/lose count 6.0/7.0. Average score (2.909090909090909)\n",
      "Final score: 3.2\n",
      "Test of the FC\n",
      "Win/lose count 2.5/5.0. Average score (-1.25)\n",
      "Win/lose count 5.0/6.0. Average score (-1.1666666666666667)\n",
      "Win/lose count 5.5/7.0. Average score (-1.25)\n",
      "Win/lose count 5.0/6.0. Average score (-1.2)\n",
      "Win/lose count 4.0/4.0. Average score (-1.0)\n",
      "Win/lose count 1.5/1.0. Average score (-0.7857142857142857)\n",
      "Win/lose count 3.0/7.0. Average score (-1.1875)\n",
      "Win/lose count 5.5/10.0. Average score (-1.5555555555555556)\n",
      "Win/lose count 4.0/2.0. Average score (-1.2)\n",
      "Win/lose count 1.0/4.0. Average score (-1.3636363636363635)\n",
      "Final score: -1.5\n"
     ]
    }
   ],
   "source": [
    "env = Environment(grid_size=size, max_time=T,temperature=0.3)\n",
    "agent_cnn = DQN_CNN(size, lr=.1, epsilon = 0.1, memory_size=2000, batch_size = 32)\n",
    "agent_cnn.load(name_weights='cnn_trainmodel.h5',name_model='cnn_trainmodel.json')\n",
    "\n",
    "agent_fc = DQN_FC(size, lr=.1, epsilon = 0.1, memory_size=2000, batch_size = 32)\n",
    "agent_cnn.load(name_weights='fc_trainmodel.h5',name_model='fc_trainmodel.json')\n",
    "print('Test of the CNN')\n",
    "test(agent_cnn,env,epochs_test,prefix='cnn_test')\n",
    "print('Test of the FC')\n",
    "test(agent_fc,env,epochs_test,prefix='fc_test')"
   ]
  },
  {
   "cell_type": "code",
   "execution_count": 0,
   "metadata": {
    "colab": {
     "base_uri": "https://localhost:8080/",
     "height": 293
    },
    "colab_type": "code",
    "id": "ebtN4x8eWCIK",
    "outputId": "323fed94-992a-456d-80d1-c3c7eec31cef"
   },
   "outputs": [
    {
     "data": {
      "text/html": [
       "<video alt=\"test\" controls>\n",
       "                <source src=\"data:video/mp4;base64,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\" type=\"video/mp4\" />\n",
       "             </video>"
      ],
      "text/plain": [
       "<IPython.core.display.HTML object>"
      ]
     },
     "execution_count": 33,
     "metadata": {
      "tags": []
     },
     "output_type": "execute_result"
    }
   ],
   "source": [
    "HTML(display_videos('cnn_test{}.mp4'.format((epochs_test // 10) * 10)))"
   ]
  },
  {
   "cell_type": "code",
   "execution_count": 0,
   "metadata": {
    "colab": {
     "base_uri": "https://localhost:8080/",
     "height": 293
    },
    "colab_type": "code",
    "id": "bpVP_WKdWCIM",
    "outputId": "939ee10b-3c6b-47f0-a18b-d9ebcca8554c"
   },
   "outputs": [
    {
     "data": {
      "text/html": [
       "<video alt=\"test\" controls>\n",
       "                <source src=\"data:video/mp4;base64,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\" type=\"video/mp4\" />\n",
       "             </video>"
      ],
      "text/plain": [
       "<IPython.core.display.HTML object>"
      ]
     },
     "execution_count": 34,
     "metadata": {
      "tags": []
     },
     "output_type": "execute_result"
    }
   ],
   "source": [
    "HTML(display_videos('fc_test{}.mp4'.format((epochs_test // 10) * 10)))"
   ]
  },
  {
   "cell_type": "markdown",
   "metadata": {
    "colab_type": "text",
    "id": "ApDtPR2hWCIO"
   },
   "source": [
    "We can observe that the convolution model has better performances than the fully connected model. However, each of those performances are far from being optimal. As we can see, the agents are often stuck in local neighborhood doing cycles and do not sufficiently explore."
   ]
  },
  {
   "cell_type": "markdown",
   "metadata": {
    "colab_type": "text",
    "id": "NQSu6a1hWCIO"
   },
   "source": [
    "***\n",
    "\n",
    "The algorithm tends to not explore the map which can be an issue. We propose two ideas in order to encourage exploration:\n",
    "1. Incorporating a decreasing $\\epsilon$-greedy exploration. You can use the method ```set_epsilon```\n",
    "2. Append via the environment a new state that describes if a cell has been visited or not\n",
    "\n",
    "***\n",
    "__Question 10__ Design a new ```train_explore``` function and environment class ```EnvironmentExploring``` to tackle the issue of exploration.\n",
    "\n"
   ]
  },
  {
   "cell_type": "code",
   "execution_count": 0,
   "metadata": {
    "colab": {},
    "colab_type": "code",
    "id": "HJd-T0qkWCIP"
   },
   "outputs": [],
   "source": [
    "def train_explore(agent, env, epoch, prefix='', eps_min=0.1, eps_max=1.0):\n",
    "    # Number of won games\n",
    "    score = 0\n",
    "    loss = 0\n",
    "    total_steps = 0\n",
    "\n",
    "    for e in range(1, epoch + 1):\n",
    "        # At each epoch, we restart to a fresh game and get the initial state\n",
    "        state = env.reset()\n",
    "        # This assumes that the games will terminate\n",
    "        game_over = False\n",
    "\n",
    "        win = 0\n",
    "        lose = 0\n",
    "\n",
    "        while not game_over:\n",
    "            # The agent performs an action\n",
    "            action = agent.act(state)\n",
    "\n",
    "            # Apply an action to the environment, get the next state, the reward\n",
    "            # and if the games end\n",
    "            prev_state = state\n",
    "            state, reward, game_over = env.act(action, train=True)\n",
    "\n",
    "            # Update the counters\n",
    "            if reward > 0:\n",
    "                win = win + reward\n",
    "            if reward < 0:\n",
    "                lose = lose - reward\n",
    "\n",
    "            # Apply the reinforcement strategy\n",
    "            loss = agent.reinforce(prev_state, state, action, reward, game_over)\n",
    "\n",
    "            # Update epsilon (exp decay)\n",
    "            epsilon = eps_min + (eps_max - eps_min) * np.exp(- beta * total_steps / (epoch * env.max_time))\n",
    "            agent.set_epsilon(epsilon)\n",
    "            total_steps += 1\n",
    "            \n",
    "        # Save as a mp4\n",
    "        if e % 10 == 0:\n",
    "            env.draw(prefix + str(e))\n",
    "\n",
    "        # Update stats\n",
    "        score += win - lose\n",
    "\n",
    "        print(\n",
    "            \"Epoch {:03d}/{:03d} | Loss {:.4f} | Win/lose count {:.3f}/{:.3f} ({:.3f}) | eps {:.4f}\".format(\n",
    "                e, epoch, loss, win, lose, win - lose, agent.epsilon\n",
    "            )\n",
    "        )\n",
    "        agent.save(name_weights=prefix + \"model.h5\", name_model=prefix + \"model.json\")\n",
    "        \n",
    "class EnvironmentExploring(Environment):\n",
    "    def __init__(self, grid_size=10, max_time=500, temperature=0.1):\n",
    "        super(EnvironmentExploring, self).__init__(grid_size, max_time, temperature)\n",
    "        self.malus_position = np.zeros((grid_size, grid_size))\n",
    "      \n",
    "    def act(self, action, train=False):\n",
    "        \"\"\"This function returns the new state, reward and decides if the\n",
    "        game ends.\"\"\"\n",
    "\n",
    "        self.get_frame(int(self.t))\n",
    "\n",
    "        self.position = np.zeros((self.grid_size, self.grid_size))\n",
    "\n",
    "        self.position[0:2, :] = -1\n",
    "        self.position[:, 0:2] = -1\n",
    "        self.position[-2:, :] = -1\n",
    "        self.position[-2:, :] = -1\n",
    "\n",
    "        self.position[self.x, self.y] = 1\n",
    "        if action == 0:\n",
    "            if self.x == self.grid_size - 3:\n",
    "                self.x = self.x - 1\n",
    "            else:\n",
    "                self.x = self.x + 1\n",
    "        elif action == 1:\n",
    "            if self.x == 2:\n",
    "                self.x = self.x + 1\n",
    "            else:\n",
    "                self.x = self.x - 1\n",
    "        elif action == 2:\n",
    "            if self.y == self.grid_size - 3:\n",
    "                self.y = self.y - 1\n",
    "            else:\n",
    "                self.y = self.y + 1\n",
    "        elif action == 3:\n",
    "            if self.y == 2:\n",
    "                self.y = self.y + 1\n",
    "            else:\n",
    "                self.y = self.y - 1\n",
    "        else:\n",
    "            RuntimeError(\"Error: action not recognized\")\n",
    "\n",
    "        self.t = self.t + 1\n",
    "        reward = 0.0\n",
    "        if train:\n",
    "            reward = -self.malus_position[self.x, self.y]\n",
    "        self.malus_position[self.x, self.y] = 0.1\n",
    "        reward += self.board[self.x, self.y]\n",
    "        self.board[self.x, self.y] = 0\n",
    "        game_over = self.t > self.max_time\n",
    "        state = np.concatenate(\n",
    "            (\n",
    "                self.malus_position.reshape(self.grid_size, self.grid_size, 1),\n",
    "                self.board.reshape(self.grid_size, self.grid_size, 1),\n",
    "                self.position.reshape(self.grid_size, self.grid_size, 1),\n",
    "            ),\n",
    "            axis=2,\n",
    "        )\n",
    "        state = state[self.x - 2 : self.x + 3, self.y - 2 : self.y + 3, :]\n",
    "\n",
    "        return state, reward, game_over\n",
    "    \n",
    "    def reset(self):\n",
    "        \"\"\"This function resets the game and returns the initial state\"\"\"\n",
    "\n",
    "        self.x = np.random.randint(3, self.grid_size - 3, size=1)[0]\n",
    "        self.y = np.random.randint(3, self.grid_size - 3, size=1)[0]\n",
    "\n",
    "        bonus = 0.5 * np.random.binomial(1, self.temperature, size=self.grid_size ** 2)\n",
    "        bonus = bonus.reshape(self.grid_size, self.grid_size)\n",
    "\n",
    "        malus = -1.0 * np.random.binomial(1, self.temperature, size=self.grid_size ** 2)\n",
    "        malus = malus.reshape(self.grid_size, self.grid_size)\n",
    "\n",
    "        self.to_draw = np.zeros(\n",
    "            (\n",
    "                self.max_time + 2,\n",
    "                self.grid_size * self.scale,\n",
    "                self.grid_size * self.scale,\n",
    "                3,\n",
    "            )\n",
    "        )\n",
    "\n",
    "        malus[bonus > 0] = 0\n",
    "\n",
    "        self.board = bonus + malus\n",
    "\n",
    "        self.position = np.zeros((self.grid_size, self.grid_size))\n",
    "        self.position[0:2, :] = -1\n",
    "        self.position[:, 0:2] = -1\n",
    "        self.position[-2:, :] = -1\n",
    "        self.position[-2:, :] = -1\n",
    "        self.board[self.x, self.y] = 0\n",
    "        self.t = 0\n",
    "\n",
    "        self.malus_position = np.zeros((self.grid_size, self.grid_size))\n",
    "\n",
    "        state = np.concatenate(\n",
    "            (\n",
    "                self.malus_position.reshape(self.grid_size, self.grid_size, 1),\n",
    "                self.board.reshape(self.grid_size, self.grid_size, 1),\n",
    "                self.position.reshape(self.grid_size, self.grid_size, 1),\n",
    "            ),\n",
    "            axis=2,\n",
    "        )\n",
    "\n",
    "        state = state[self.x - 2 : self.x + 3, self.y - 2 : self.y + 3, :]\n",
    "        return state"
   ]
  },
  {
   "cell_type": "code",
   "execution_count": 0,
   "metadata": {
    "colab": {
     "base_uri": "https://localhost:8080/",
     "height": 1000
    },
    "colab_type": "code",
    "id": "1R_xQRFuWCIR",
    "outputId": "1a69e070-a443-41ec-9fea-83294283d85d"
   },
   "outputs": [
    {
     "name": "stdout",
     "output_type": "stream",
     "text": [
      "Epoch 001/050 | Loss 0.0103 | Win/lose count 15.500/24.100 (-8.600) | eps 0.8239\n",
      "Epoch 002/050 | Loss 0.0062 | Win/lose count 10.000/26.500 (-16.500) | eps 0.7547\n",
      "Epoch 003/050 | Loss 0.0080 | Win/lose count 8.000/24.900 (-16.900) | eps 0.6921\n",
      "Epoch 004/050 | Loss 0.0049 | Win/lose count 10.500/25.600 (-15.100) | eps 0.6355\n",
      "Epoch 005/050 | Loss 0.0027 | Win/lose count 7.500/20.500 (-13.000) | eps 0.5843\n",
      "Epoch 006/050 | Loss 0.0095 | Win/lose count 15.500/26.400 (-10.900) | eps 0.5380\n",
      "Epoch 007/050 | Loss 0.0043 | Win/lose count 4.500/25.400 (-20.900) | eps 0.4961\n",
      "Epoch 008/050 | Loss 0.0072 | Win/lose count 17.000/24.100 (-7.100) | eps 0.4582\n",
      "Epoch 009/050 | Loss 0.0028 | Win/lose count 15.000/24.200 (-9.200) | eps 0.4240\n",
      "Epoch 010/050 | Loss 0.0224 | Win/lose count 13.500/21.500 (-8.000) | eps 0.3930\n",
      "Epoch 011/050 | Loss 0.0125 | Win/lose count 15.500/20.700 (-5.200) | eps 0.3650\n",
      "Epoch 012/050 | Loss 0.0066 | Win/lose count 14.000/18.700 (-4.700) | eps 0.3396\n",
      "Epoch 013/050 | Loss 0.0100 | Win/lose count 10.500/23.300 (-12.800) | eps 0.3167\n",
      "Epoch 014/050 | Loss 0.0045 | Win/lose count 20.500/20.200 (0.300) | eps 0.2960\n",
      "Epoch 015/050 | Loss 0.0082 | Win/lose count 13.500/19.400 (-5.900) | eps 0.2773\n",
      "Epoch 016/050 | Loss 0.0054 | Win/lose count 25.000/13.100 (11.900) | eps 0.2603\n",
      "Epoch 017/050 | Loss 0.0182 | Win/lose count 19.000/18.300 (0.700) | eps 0.2450\n",
      "Epoch 018/050 | Loss 0.0094 | Win/lose count 21.000/16.200 (4.800) | eps 0.2311\n",
      "Epoch 019/050 | Loss 0.0055 | Win/lose count 11.000/21.100 (-10.100) | eps 0.2186\n",
      "Epoch 020/050 | Loss 0.0118 | Win/lose count 17.000/17.000 (0.000) | eps 0.2072\n",
      "Epoch 021/050 | Loss 0.0045 | Win/lose count 20.500/16.900 (3.600) | eps 0.1970\n",
      "Epoch 022/050 | Loss 0.0107 | Win/lose count 23.000/15.200 (7.800) | eps 0.1877\n",
      "Epoch 023/050 | Loss 0.0069 | Win/lose count 18.000/14.400 (3.600) | eps 0.1793\n",
      "Epoch 024/050 | Loss 0.0142 | Win/lose count 18.500/16.200 (2.300) | eps 0.1717\n",
      "Epoch 025/050 | Loss 0.0179 | Win/lose count 15.000/17.600 (-2.600) | eps 0.1649\n",
      "Epoch 026/050 | Loss 0.0048 | Win/lose count 13.000/15.200 (-2.200) | eps 0.1587\n",
      "Epoch 027/050 | Loss 0.0047 | Win/lose count 16.000/17.400 (-1.400) | eps 0.1531\n",
      "Epoch 028/050 | Loss 0.0098 | Win/lose count 20.500/20.400 (0.100) | eps 0.1480\n",
      "Epoch 029/050 | Loss 0.0065 | Win/lose count 14.500/14.200 (0.300) | eps 0.1434\n",
      "Epoch 030/050 | Loss 0.0128 | Win/lose count 21.500/18.100 (3.400) | eps 0.1393\n",
      "Epoch 031/050 | Loss 0.0104 | Win/lose count 12.500/15.600 (-3.100) | eps 0.1355\n",
      "Epoch 032/050 | Loss 0.0129 | Win/lose count 20.000/16.000 (4.000) | eps 0.1321\n",
      "Epoch 033/050 | Loss 0.0197 | Win/lose count 22.000/14.900 (7.100) | eps 0.1290\n",
      "Epoch 034/050 | Loss 0.0089 | Win/lose count 22.000/14.100 (7.900) | eps 0.1263\n",
      "Epoch 035/050 | Loss 0.0104 | Win/lose count 21.000/21.500 (-0.500) | eps 0.1238\n",
      "Epoch 036/050 | Loss 0.0120 | Win/lose count 17.000/14.800 (2.200) | eps 0.1215\n",
      "Epoch 037/050 | Loss 0.0060 | Win/lose count 19.500/15.600 (3.900) | eps 0.1194\n",
      "Epoch 038/050 | Loss 0.0073 | Win/lose count 15.000/19.200 (-4.200) | eps 0.1176\n",
      "Epoch 039/050 | Loss 0.0044 | Win/lose count 23.500/16.300 (7.200) | eps 0.1159\n",
      "Epoch 040/050 | Loss 0.0135 | Win/lose count 15.500/14.300 (1.200) | eps 0.1144\n",
      "Epoch 041/050 | Loss 0.0042 | Win/lose count 26.000/15.900 (10.100) | eps 0.1130\n",
      "Epoch 042/050 | Loss 0.0070 | Win/lose count 16.500/19.900 (-3.400) | eps 0.1118\n",
      "Epoch 043/050 | Loss 0.0333 | Win/lose count 20.000/12.900 (7.100) | eps 0.1106\n",
      "Epoch 044/050 | Loss 0.0077 | Win/lose count 28.500/11.600 (16.900) | eps 0.1096\n",
      "Epoch 045/050 | Loss 0.0365 | Win/lose count 19.500/12.700 (6.800) | eps 0.1087\n",
      "Epoch 046/050 | Loss 0.0124 | Win/lose count 23.000/14.700 (8.300) | eps 0.1079\n",
      "Epoch 047/050 | Loss 0.0151 | Win/lose count 22.500/13.900 (8.600) | eps 0.1071\n",
      "Epoch 048/050 | Loss 0.0083 | Win/lose count 20.000/17.500 (2.500) | eps 0.1064\n",
      "Epoch 049/050 | Loss 0.0090 | Win/lose count 24.500/10.400 (14.100) | eps 0.1058\n",
      "Epoch 050/050 | Loss 0.0237 | Win/lose count 22.000/13.300 (8.700) | eps 0.1053\n"
     ]
    },
    {
     "data": {
      "text/html": [
       "<video alt=\"test\" controls>\n",
       "                <source src=\"data:video/mp4;base64,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\" type=\"video/mp4\" />\n",
       "             </video>"
      ],
      "text/plain": [
       "<IPython.core.display.HTML object>"
      ]
     },
     "execution_count": 36,
     "metadata": {
      "tags": []
     },
     "output_type": "execute_result"
    }
   ],
   "source": [
    "# Training\n",
    "env = EnvironmentExploring(grid_size=size, max_time=T, temperature=0.3)\n",
    "agent = DQN_CNN(size, lr=.001, epsilon = 0.1, memory_size=2000, batch_size = 32, n_state=3)\n",
    "train_explore(agent, env, epochs_train, prefix='cnn_train_explore', eps_min=0.1, eps_max=0.9)\n",
    "HTML(display_videos('cnn_train_explore{}.mp4'.format((epochs_train // 10) * 10)))"
   ]
  },
  {
   "cell_type": "code",
   "execution_count": 0,
   "metadata": {
    "colab": {
     "base_uri": "https://localhost:8080/",
     "height": 480
    },
    "colab_type": "code",
    "id": "qIbMfzFfWCIT",
    "outputId": "fa7a6a20-29fb-4450-ce0c-390b54a8dbbc"
   },
   "outputs": [
    {
     "name": "stdout",
     "output_type": "stream",
     "text": [
      "Win/lose count 10.5/6.0. Average score (2.25)\n",
      "Win/lose count 23.0/5.0. Average score (7.5)\n",
      "Win/lose count 13.0/3.0. Average score (8.125)\n",
      "Win/lose count 21.0/4.0. Average score (9.9)\n",
      "Win/lose count 21.5/4.0. Average score (11.166666666666666)\n",
      "Win/lose count 18.0/4.0. Average score (11.571428571428571)\n",
      "Win/lose count 10.5/2.0. Average score (11.1875)\n",
      "Win/lose count 30.0/4.0. Average score (12.833333333333334)\n",
      "Win/lose count 13.0/2.0. Average score (12.65)\n",
      "Win/lose count 25.5/6.0. Average score (13.272727272727273)\n",
      "Final score: 14.6\n"
     ]
    },
    {
     "data": {
      "text/html": [
       "<video alt=\"test\" controls>\n",
       "                <source src=\"data:video/mp4;base64,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\" type=\"video/mp4\" />\n",
       "             </video>"
      ],
      "text/plain": [
       "<IPython.core.display.HTML object>"
      ]
     },
     "execution_count": 37,
     "metadata": {
      "tags": []
     },
     "output_type": "execute_result"
    }
   ],
   "source": [
    "# Evaluation\n",
    "test(agent, env, epochs_test, prefix='cnn_test_explore')\n",
    "HTML(display_videos('cnn_test_explore{}.mp4'.format((epochs_test // 10) * 10)))"
   ]
  },
  {
   "cell_type": "markdown",
   "metadata": {
    "colab_type": "text",
    "id": "ZJ9lmQq0WCIV"
   },
   "source": [
    "***\n",
    "***\n",
    "__BONUS question__ Use the expert DQN from the previous question to generate some winning games. Train a model that mimicks its behavior. Compare the performances."
   ]
  }
 ],
 "metadata": {
  "accelerator": "GPU",
  "colab": {
   "collapsed_sections": [],
   "name": "DQN_project_MVA.ipynb",
   "provenance": [],
   "toc_visible": true
  },
  "kernelspec": {
   "display_name": "Python 3",
   "language": "python",
   "name": "python3"
  },
  "language_info": {
   "codemirror_mode": {
    "name": "ipython",
    "version": 3
   },
   "file_extension": ".py",
   "mimetype": "text/x-python",
   "name": "python",
   "nbconvert_exporter": "python",
   "pygments_lexer": "ipython3",
   "version": "3.6.9"
  }
 },
 "nbformat": 4,
 "nbformat_minor": 1
}
